{
 "cells": [
  {
   "cell_type": "markdown",
   "metadata": {},
   "source": [
    "# Motivation\n",
    "#### The role of data visualization is to give data scientists a new perspective on data they can use to form hypotheses and intuitively communicate information to customers. <br />\n",
    "#### Therefore, we want to use this data to gain insights into the trends of incoming and outgoing traffic at various airports during the pandemic. By making each visualization dynamic we can explore individual points of interest within each visualizaiton or get a broad picture of the entire dataset."
   ]
  },
  {
   "cell_type": "code",
   "execution_count": 1,
   "metadata": {},
   "outputs": [],
   "source": [
    "import folium\n",
    "import os\n",
    "\n",
    "import datetime as dt\n",
    "import geopandas as gpd\n",
    "import geoplot as gplt\n",
    "import ipywidgets as widgets\n",
    "import matplotlib.dates as md\n",
    "import matplotlib.pyplot as plt\n",
    "import numpy as np\n",
    "import pandas as pd\n",
    "import seaborn as sns\n",
    "\n",
    "from folium.plugins import MarkerCluster\n",
    "from IPython.display import *\n",
    "from matplotlib.ticker import MaxNLocator\n",
    "from sklearn.linear_model import LinearRegression\n",
    "from sklearn.preprocessing import PolynomialFeatures\n",
    "from typing import *"
   ]
  },
  {
   "cell_type": "markdown",
   "metadata": {},
   "source": [
    "Visualization styling"
   ]
  },
  {
   "cell_type": "code",
   "execution_count": 2,
   "metadata": {},
   "outputs": [],
   "source": [
    "sns.set_style('dark')\n",
    "sns.set(rc = {\n",
    "      'axes.edgecolor': '#242424'\n",
    "    , 'axes.facecolor': '#242424'\n",
    "    , 'axes.grid': False\n",
    "    , 'axes.labelcolor': '#ffffff'\n",
    "    , 'figure.facecolor': '#242424'\n",
    "    , 'figure.figsize': (30, 20)\n",
    "    , 'text.color': '#ffffff'\n",
    "    , 'xtick.color': '#ffffff'\n",
    "    , 'ytick.color': '#ffffff'\n",
    "})\n",
    "\n",
    "color_background = '#2e2e2e'\n",
    "color_main = '#1c5a85'\n",
    "color_highlight = '#94700f'\n",
    "color_geo_highlight = '#5c5c5c'"
   ]
  },
  {
   "cell_type": "markdown",
   "metadata": {},
   "source": [
    "Set working directory"
   ]
  },
  {
   "cell_type": "code",
   "execution_count": 3,
   "metadata": {},
   "outputs": [],
   "source": [
    "os.chdir('D:/_DataSci/Projects/Covid Airport Traffic')"
   ]
  },
  {
   "cell_type": "markdown",
   "metadata": {},
   "source": [
    "Read in Air Traffic dataset"
   ]
  },
  {
   "cell_type": "code",
   "execution_count": 4,
   "metadata": {},
   "outputs": [],
   "source": [
    "df_traffic = pd.read_csv('covid_impact_on_airport_traffic.csv')"
   ]
  },
  {
   "cell_type": "markdown",
   "metadata": {},
   "source": [
    "Convert dates and create numeric representations"
   ]
  },
  {
   "cell_type": "code",
   "execution_count": 5,
   "metadata": {},
   "outputs": [],
   "source": [
    "df_traffic['Date'] = pd.to_datetime(df_traffic['Date'])\n",
    "df_traffic['DateOrd'] = df_traffic['Date'].map(dt.datetime.toordinal)"
   ]
  },
  {
   "cell_type": "markdown",
   "metadata": {},
   "source": [
    "Convert geo data"
   ]
  },
  {
   "cell_type": "code",
   "execution_count": 6,
   "metadata": {},
   "outputs": [],
   "source": [
    "df_traffic['Centroid'] = gpd.GeoSeries.from_wkt(df_traffic['Centroid'])\n",
    "df_traffic['Geography'] = gpd.GeoSeries.from_wkt(df_traffic['Geography'])"
   ]
  },
  {
   "cell_type": "markdown",
   "metadata": {},
   "source": [
    "Assign a numeric value to each airport"
   ]
  },
  {
   "cell_type": "code",
   "execution_count": 7,
   "metadata": {},
   "outputs": [],
   "source": [
    "\n",
    "keyed_names = np.sort(pd.unique(df_traffic['AirportName'].values))\n",
    "df_traffic['AirportKey'] = df_traffic['AirportName'].map(lambda x: np.where(keyed_names == x)[0][0])"
   ]
  },
  {
   "cell_type": "code",
   "execution_count": 8,
   "metadata": {},
   "outputs": [
    {
     "data": {
      "text/plain": [
       "array(['Boston Logan International ', 'Calgary International',\n",
       "       'Charlotte Douglas International', 'Chicago OHare International',\n",
       "       'Dallas/Fort Worth International ',\n",
       "       'Daniel K. Inouye International ', 'Denver International',\n",
       "       'Detroit Metropolitan Wayne County ', 'Edmonton International',\n",
       "       'Halifax International', 'Hamilton International',\n",
       "       'Hartsfield-Jackson Atlanta International ',\n",
       "       'John F. Kennedy International', 'Kingsford Smith', 'LaGuardia',\n",
       "       'Los Angeles International', 'McCarran International',\n",
       "       'Miami International ', 'Montreal Mirabel', 'Montreal Trudeau',\n",
       "       'Newark Liberty International ', 'San Francisco International',\n",
       "       'Santiago International Airport', 'Seattle-Tacoma International ',\n",
       "       'Toronto Pearson', 'Vancouver International',\n",
       "       'Washington Dulles International ', 'Winnipeg International'],\n",
       "      dtype=object)"
      ]
     },
     "execution_count": 8,
     "metadata": {},
     "output_type": "execute_result"
    }
   ],
   "source": [
    "keyed_names"
   ]
  },
  {
   "cell_type": "code",
   "execution_count": 9,
   "metadata": {},
   "outputs": [
    {
     "data": {
      "text/plain": [
       "((7247, 13),\n",
       " AggregationMethod            object\n",
       " Date                 datetime64[ns]\n",
       " Version                     float64\n",
       " AirportName                  object\n",
       " PercentOfBaseline             int64\n",
       " Centroid                   geometry\n",
       " City                         object\n",
       " State                        object\n",
       " ISO_3166_2                   object\n",
       " Country                      object\n",
       " Geography                  geometry\n",
       " DateOrd                       int64\n",
       " AirportKey                    int64\n",
       " dtype: object)"
      ]
     },
     "execution_count": 9,
     "metadata": {},
     "output_type": "execute_result"
    }
   ],
   "source": [
    "df_traffic.shape, df_traffic.dtypes"
   ]
  },
  {
   "cell_type": "code",
   "execution_count": 10,
   "metadata": {},
   "outputs": [
    {
     "data": {
      "text/html": [
       "<div>\n",
       "<style scoped>\n",
       "    .dataframe tbody tr th:only-of-type {\n",
       "        vertical-align: middle;\n",
       "    }\n",
       "\n",
       "    .dataframe tbody tr th {\n",
       "        vertical-align: top;\n",
       "    }\n",
       "\n",
       "    .dataframe thead th {\n",
       "        text-align: right;\n",
       "    }\n",
       "</style>\n",
       "<table border=\"1\" class=\"dataframe\">\n",
       "  <thead>\n",
       "    <tr style=\"text-align: right;\">\n",
       "      <th></th>\n",
       "      <th>AggregationMethod</th>\n",
       "      <th>Date</th>\n",
       "      <th>Version</th>\n",
       "      <th>AirportName</th>\n",
       "      <th>PercentOfBaseline</th>\n",
       "      <th>Centroid</th>\n",
       "      <th>City</th>\n",
       "      <th>State</th>\n",
       "      <th>ISO_3166_2</th>\n",
       "      <th>Country</th>\n",
       "      <th>Geography</th>\n",
       "      <th>DateOrd</th>\n",
       "      <th>AirportKey</th>\n",
       "    </tr>\n",
       "  </thead>\n",
       "  <tbody>\n",
       "    <tr>\n",
       "      <th>0</th>\n",
       "      <td>Daily</td>\n",
       "      <td>2020-04-03</td>\n",
       "      <td>1.0</td>\n",
       "      <td>Kingsford Smith</td>\n",
       "      <td>64</td>\n",
       "      <td>POINT (151.18009 -33.94598)</td>\n",
       "      <td>Sydney</td>\n",
       "      <td>New South Wales</td>\n",
       "      <td>AU</td>\n",
       "      <td>Australia</td>\n",
       "      <td>POLYGON ((151.16435 -33.93018, 151.16332 -33.9...</td>\n",
       "      <td>737518</td>\n",
       "      <td>13</td>\n",
       "    </tr>\n",
       "    <tr>\n",
       "      <th>1</th>\n",
       "      <td>Daily</td>\n",
       "      <td>2020-04-13</td>\n",
       "      <td>1.0</td>\n",
       "      <td>Kingsford Smith</td>\n",
       "      <td>29</td>\n",
       "      <td>POINT (151.18009 -33.94598)</td>\n",
       "      <td>Sydney</td>\n",
       "      <td>New South Wales</td>\n",
       "      <td>AU</td>\n",
       "      <td>Australia</td>\n",
       "      <td>POLYGON ((151.16435 -33.93018, 151.16332 -33.9...</td>\n",
       "      <td>737528</td>\n",
       "      <td>13</td>\n",
       "    </tr>\n",
       "    <tr>\n",
       "      <th>2</th>\n",
       "      <td>Daily</td>\n",
       "      <td>2020-07-10</td>\n",
       "      <td>1.0</td>\n",
       "      <td>Kingsford Smith</td>\n",
       "      <td>54</td>\n",
       "      <td>POINT (151.18009 -33.94598)</td>\n",
       "      <td>Sydney</td>\n",
       "      <td>New South Wales</td>\n",
       "      <td>AU</td>\n",
       "      <td>Australia</td>\n",
       "      <td>POLYGON ((151.16435 -33.93018, 151.16332 -33.9...</td>\n",
       "      <td>737616</td>\n",
       "      <td>13</td>\n",
       "    </tr>\n",
       "    <tr>\n",
       "      <th>3</th>\n",
       "      <td>Daily</td>\n",
       "      <td>2020-09-02</td>\n",
       "      <td>1.0</td>\n",
       "      <td>Kingsford Smith</td>\n",
       "      <td>18</td>\n",
       "      <td>POINT (151.18009 -33.94598)</td>\n",
       "      <td>Sydney</td>\n",
       "      <td>New South Wales</td>\n",
       "      <td>AU</td>\n",
       "      <td>Australia</td>\n",
       "      <td>POLYGON ((151.16435 -33.93018, 151.16332 -33.9...</td>\n",
       "      <td>737670</td>\n",
       "      <td>13</td>\n",
       "    </tr>\n",
       "    <tr>\n",
       "      <th>4</th>\n",
       "      <td>Daily</td>\n",
       "      <td>2020-10-31</td>\n",
       "      <td>1.0</td>\n",
       "      <td>Kingsford Smith</td>\n",
       "      <td>22</td>\n",
       "      <td>POINT (151.18009 -33.94598)</td>\n",
       "      <td>Sydney</td>\n",
       "      <td>New South Wales</td>\n",
       "      <td>AU</td>\n",
       "      <td>Australia</td>\n",
       "      <td>POLYGON ((151.16435 -33.93018, 151.16332 -33.9...</td>\n",
       "      <td>737729</td>\n",
       "      <td>13</td>\n",
       "    </tr>\n",
       "  </tbody>\n",
       "</table>\n",
       "</div>"
      ],
      "text/plain": [
       "  AggregationMethod       Date  Version      AirportName  PercentOfBaseline  \\\n",
       "0             Daily 2020-04-03      1.0  Kingsford Smith                 64   \n",
       "1             Daily 2020-04-13      1.0  Kingsford Smith                 29   \n",
       "2             Daily 2020-07-10      1.0  Kingsford Smith                 54   \n",
       "3             Daily 2020-09-02      1.0  Kingsford Smith                 18   \n",
       "4             Daily 2020-10-31      1.0  Kingsford Smith                 22   \n",
       "\n",
       "                      Centroid    City            State ISO_3166_2    Country  \\\n",
       "0  POINT (151.18009 -33.94598)  Sydney  New South Wales         AU  Australia   \n",
       "1  POINT (151.18009 -33.94598)  Sydney  New South Wales         AU  Australia   \n",
       "2  POINT (151.18009 -33.94598)  Sydney  New South Wales         AU  Australia   \n",
       "3  POINT (151.18009 -33.94598)  Sydney  New South Wales         AU  Australia   \n",
       "4  POINT (151.18009 -33.94598)  Sydney  New South Wales         AU  Australia   \n",
       "\n",
       "                                           Geography  DateOrd  AirportKey  \n",
       "0  POLYGON ((151.16435 -33.93018, 151.16332 -33.9...   737518          13  \n",
       "1  POLYGON ((151.16435 -33.93018, 151.16332 -33.9...   737528          13  \n",
       "2  POLYGON ((151.16435 -33.93018, 151.16332 -33.9...   737616          13  \n",
       "3  POLYGON ((151.16435 -33.93018, 151.16332 -33.9...   737670          13  \n",
       "4  POLYGON ((151.16435 -33.93018, 151.16332 -33.9...   737729          13  "
      ]
     },
     "execution_count": 10,
     "metadata": {},
     "output_type": "execute_result"
    }
   ],
   "source": [
    "df_traffic.head()"
   ]
  },
  {
   "cell_type": "markdown",
   "metadata": {},
   "source": [
    "# Timeline Information\n",
    "#### There were a handful of airports I wanted to look at with a little more scrutiny to see if how directly state and country policies affected their traffic capacity. These will be:\n",
    "+ John F. Kenedy International (Queens, New York)\n",
    "+ LaGuardia (Queens, New York)\n",
    "+ Newark Liberty International (Newark, New Jersey)\n",
    "+ McCarran International (Paradise, Nevada)\n",
    "+ Kingsford Smith (Sydney, Australia)\n",
    "+ Santiago International (Santiago, Chile)\n",
    "\n",
    "#### For this I gathered information about national and state policies that were implemented during the time of the data. I could then plot them alongside the data to see if there was any obvious differntiation in the trend."
   ]
  },
  {
   "cell_type": "code",
   "execution_count": 11,
   "metadata": {},
   "outputs": [],
   "source": [
    "df_sources = pd.DataFrame(\n",
    "    [\n",
    "          [0, 'Chile Ministry of Communications', 'n.d.', 'Plan update \"Step by Step\"', 'https://www.gob.cl/coronavirus/pasoapaso/']\n",
    "        , [1, 'Federal Register', '31 Jan 2020', 'Suspension of Entry as Immigrants and Nonimmigrants of Persons Who Pose a Risk of Transmitting 2019 Novel Coronavirus and Other Appropriate Measures To Address This Risk', 'https://www.federalregister.gov/documents/2020/02/05/2020-02424/suspension-of-entry-as-immigrants-and-nonimmigrants-of-persons-who-pose-a-risk-of-transmitting-2019']\n",
    "        , [2, 'Federal Register', '11 Mar 2020', 'Suspension of Entry as Immigrants and Nonimmigrants of Certain Additional Persons Who Pose a Risk of Transmitting 2019 Novel Coronavirus', 'https://www.federalregister.gov/documents/2020/03/16/2020-05578/suspension-of-entry-as-immigrants-and-nonimmigrants-of-certain-additional-persons-who-pose-a-risk-of']\n",
    "        , [3, 'Johnson, T', '29 June 2020', 'Addendum 2 to April 21, 2020 Policy Memorandum', 'https://gaming.nv.gov/modules/showdocument.aspx?documentid=16863']\n",
    "        , [4, 'New South Wales Government', '10 May 2020', 'NSW to ease COVID-19 restrictions from Friday 15 May', 'https://www.nsw.gov.au/news/nsw-to-ease-covid-19-restrictions-from-friday-15-may']\n",
    "        , [5, 'New South Wales Government', '1 June 2020', 'New COVID-19 restrictions in place across NSW', 'https://www.nsw.gov.au/news/new-covid-19-restrictions-place-across-nsw']\n",
    "        , [6, 'New South Wales Government Health', '18 Mar 2020', 'COVID-19 update', 'https://www.health.nsw.gov.au/news/Pages/20200318_01.aspx']\n",
    "        , [7, 'New York Govenor Press Office', '24 June 2020', 'Governor Cuomo, Governor Murphy and Governor Lamont Announce Joint Incoming Travel Advisory That All Individuals Traveling from States with Significant Community Spread of COVID-19 Quarantine for 14 Days', 'https://www.governor.ny.gov/news/governor-cuomo-governor-murphy-and-governor-lamont-announce-joint-incoming-travel-advisory-all']\n",
    "        , [8, 'New York Govenor Press Office', '28 July 2020', 'Governor Cuomo Announces Individuals Traveling to New York From Three Additional States, Puerto Rico and Washington D.C. Will Be Required to Quarantine for 14 Days', 'https://www.governor.ny.gov/news/governor-cuomo-announces-individuals-traveling-new-york-three-additional-states-puerto-rico-and']\n",
    "        , [9, 'New York Govenor Press Office', '25 Aug 2020', 'Governor Cuomo Announces Five States Removed from COVID-19 Travel Advisory Requiring 14-Day Quarantines', 'https://www.governor.ny.gov/news/governor-cuomo-announces-five-states-removed-covid-19-travel-advisory-requiring-14-day']\n",
    "        , [10, 'New York Govenor Press Office', '22 Sep 2020', 'Governor Cuomo Announces Five States Added to Travel Advisory and 10 Million COVID-19 Diagnostic Tests Conducted', 'https://www.governor.ny.gov/news/governor-cuomo-announces-five-states-added-travel-advisory-and-10-million-covid-19-diagnostic']\n",
    "        , [11, 'New York Govenor Press Office', '31 Oct 2020', 'Governor Cuomo Announces New Guidelines Allowing Out-of-State Travelers to \"Test Out\" of Mandatory 14-Day Quarantine', 'https://www.governor.ny.gov/news/governor-cuomo-announces-new-guidelines-allowing-out-state-travelers-test-out-mandatory-14-day']\n",
    "        , [12, 'Sisolak, S', '17 Mar 2020', 'Declaration of Emergency Directive 002', 'https://nvhealthresponse.nv.gov/wp-content/uploads/2020/04/2020-03-18.Declaration-of-Emergency-Directive-002-re-Closing-Casinos.pdf']\n",
    "        , [13, 'Sisolak, S', '1 Apr 2020', 'Declaration of Emergency Directive 009 (Revised)', 'https://nvhealthresponse.nv.gov/wp-content/uploads/2020/05/Directive-009-Revised.pdf']\n",
    "        , [14, 'Sisolak, S', '7 May 2020', 'Declaration of Emergency Directive 018', 'https://gov.nv.gov/News/Emergency_Orders/2020/2020-05-07_-_COVID-19_Declaration_of_Emergency_Directive_018_-_Phase_One_Reopening_(Attachments)/']\n",
    "        , [15, 'Sisolak, S', '14 Aug 2020', 'Declaration of Emergency Directive 030', 'https://nvhealthresponse.nv.gov/wp-content/uploads/2020/08/2020-08-14.Declaration-of-Emergency-Directive-030.pdf']\n",
    "        , [16, 'Sisolak, S', '30 Sep 2020', 'Declaration of Emergency Directive 033', 'https://gov.nv.gov/News/Emergency_Orders/2020/2020-09-11_-_COVID-19_Declaration_of_Emergency_Directive_032/']\n",
    "        , [17, 'Statista', 'n.d.', 'Monthly number of passenger visitors at Sydney Airport in Australia from February 2019 to October 2021, by passenger type', 'https://www.statista.com/statistics/1107414/australia-sydney-airport-traffic-by-passenger-type/']\n",
    "        , [18, 'U.S. Embassy in Chile', '16 Mar 2020', 'Health Alert - U.S. Embassy Santiago, Chile', 'https://cl.usembassy.gov/health-alert-u-s-embassy-santiago-chile/']\n",
    "        , [19, 'U.S. Embassy in Chile', '12 Aug 2020', 'Health Alert - U.S. Embassy Santiago - Covid-19 Update (08/12/2020)', 'https://cl.usembassy.gov/health%e2%80%afalert-u-s-embassy-santiago-covid-19-update-08-12-2020/']\n",
    "\n",
    "    ]\n",
    "    , columns = ['Id', 'Author', 'Date', 'Title', 'Link']\n",
    ")"
   ]
  },
  {
   "cell_type": "code",
   "execution_count": 12,
   "metadata": {},
   "outputs": [
    {
     "data": {
      "text/html": [
       "<div>\n",
       "<style scoped>\n",
       "    .dataframe tbody tr th:only-of-type {\n",
       "        vertical-align: middle;\n",
       "    }\n",
       "\n",
       "    .dataframe tbody tr th {\n",
       "        vertical-align: top;\n",
       "    }\n",
       "\n",
       "    .dataframe thead th {\n",
       "        text-align: right;\n",
       "    }\n",
       "</style>\n",
       "<table border=\"1\" class=\"dataframe\">\n",
       "  <thead>\n",
       "    <tr style=\"text-align: right;\">\n",
       "      <th></th>\n",
       "      <th>Date</th>\n",
       "      <th>Event</th>\n",
       "      <th>SourceId</th>\n",
       "      <th>Airport</th>\n",
       "    </tr>\n",
       "  </thead>\n",
       "  <tbody>\n",
       "    <tr>\n",
       "      <th>0</th>\n",
       "      <td>2020-03-16</td>\n",
       "      <td>Travel into the US restricted from China (Feb 2)</td>\n",
       "      <td>1</td>\n",
       "      <td>12</td>\n",
       "    </tr>\n",
       "    <tr>\n",
       "      <th>1</th>\n",
       "      <td>2020-03-16</td>\n",
       "      <td>Travel into the US restricted from China (Feb 2)</td>\n",
       "      <td>1</td>\n",
       "      <td>14</td>\n",
       "    </tr>\n",
       "    <tr>\n",
       "      <th>2</th>\n",
       "      <td>2020-03-16</td>\n",
       "      <td>Travel into the US restricted from China (Feb 2)</td>\n",
       "      <td>1</td>\n",
       "      <td>20</td>\n",
       "    </tr>\n",
       "    <tr>\n",
       "      <th>3</th>\n",
       "      <td>2020-03-16</td>\n",
       "      <td>Travel into the US restricted from most of Eur...</td>\n",
       "      <td>2</td>\n",
       "      <td>12</td>\n",
       "    </tr>\n",
       "    <tr>\n",
       "      <th>4</th>\n",
       "      <td>2020-03-16</td>\n",
       "      <td>Travel into the US restricted from most of Eur...</td>\n",
       "      <td>2</td>\n",
       "      <td>14</td>\n",
       "    </tr>\n",
       "  </tbody>\n",
       "</table>\n",
       "</div>"
      ],
      "text/plain": [
       "        Date                                              Event  SourceId  \\\n",
       "0 2020-03-16   Travel into the US restricted from China (Feb 2)         1   \n",
       "1 2020-03-16   Travel into the US restricted from China (Feb 2)         1   \n",
       "2 2020-03-16   Travel into the US restricted from China (Feb 2)         1   \n",
       "3 2020-03-16  Travel into the US restricted from most of Eur...         2   \n",
       "4 2020-03-16  Travel into the US restricted from most of Eur...         2   \n",
       "\n",
       "   Airport  \n",
       "0       12  \n",
       "1       14  \n",
       "2       20  \n",
       "3       12  \n",
       "4       14  "
      ]
     },
     "execution_count": 12,
     "metadata": {},
     "output_type": "execute_result"
    }
   ],
   "source": [
    "df_timeline = pd.DataFrame(\n",
    "    [\n",
    "          [pd.to_datetime('2020-03-16'), 'Travel into the US restricted from China (Feb 2)', 1, 12]\n",
    "        , [pd.to_datetime('2020-03-16'), 'Travel into the US restricted from China (Feb 2)', 1, 14]\n",
    "        # , [pd.to_datetime('2020-03-16'), 'Travel into the US restricted from China (Feb 2)', 1, 16]\n",
    "        , [pd.to_datetime('2020-03-16'), 'Travel into the US restricted from China (Feb 2)', 1, 20]\n",
    "        , [pd.to_datetime('2020-03-16'), 'Travel into the US restricted from most of Europe (Mar 11)', 2, 12]\n",
    "        , [pd.to_datetime('2020-03-16'), 'Travel into the US restricted from most of Europe (Mar 11)', 2, 14]\n",
    "        # , [pd.to_datetime('2020-03-16'), 'Travel into the US restricted from most of Europe (Mar 11)', 2, 16]\n",
    "        , [pd.to_datetime('2020-03-16'), 'Travel into the US restricted from most of Europe (Mar 11)', 2, 20]\n",
    "        , [pd.to_datetime('2020-03-18'), 'NSW restricts non-essential travel', 6, 13]\n",
    "        , [pd.to_datetime('2020-03-18'), 'Chilean government restricts all foriegn entry into Chile', 18, 22]\n",
    "        , [pd.to_datetime('2020-03-18'), 'All non-essential business, to include the Las Vegas strip, closed for 30 days', 12, 16]\n",
    "        , [pd.to_datetime('2020-04-01'), 'Closures for non-essential businesses extened', 13, 16]\n",
    "        , [pd.to_datetime('2020-05-07'), 'Non-essential businesses allowed to operate at limited capacities', 14, 16]\n",
    "        , [pd.to_datetime('2020-05-10'), 'General covid restrictions loosened', 4, 13]\n",
    "        , [pd.to_datetime('2020-06-01'), 'Additional restrictions loosened, to include allowing regional holiday travel', 5, 13]\n",
    "        , [pd.to_datetime('2020-06-04'), 'Casinos able to operate with limited capacity', 3, 16]\n",
    "        , [pd.to_datetime('2020-06-24'), '14 day quarantine is required from travelers from 9 states that exceed a 10% infection rate', 7, 12]\n",
    "        , [pd.to_datetime('2020-06-24'), '14 day quarantine is required from travelers from 9 states that exceed a 10% infection rate', 7, 14]\n",
    "        , [pd.to_datetime('2020-06-24'), '14 day quarantine is required from travelers from 9 states that exceed a 10% infection rate', 7, 20]\n",
    "        , [pd.to_datetime('2020-07-18'), 'Introduction of \"Paso a Paso nos cuidamos\", a tiered quarantining process', 0, 22]\n",
    "        , [pd.to_datetime('2020-07-22'), '* Drastic drop seems to be from the combination of low international and local traffic', 17, 13]\n",
    "        , [pd.to_datetime('2020-07-28'), 'Tri-state quarantine requirement is adjusted', 8, 12]\n",
    "        , [pd.to_datetime('2020-07-28'), 'Tri-state quarantine requirement is adjusted', 8, 14]\n",
    "        , [pd.to_datetime('2020-07-28'), 'Tri-state quarantine requirement is adjusted', 8, 20]\n",
    "        , [pd.to_datetime('2020-08-14'), 'Govenor adopts new means of tackling outbreaks and moves away from prior phased re-opening plan', 15, 16]\n",
    "        , [pd.to_datetime('2020-08-18'), 'Santiago quarantine lifted (Aug 16, day missing from data)', 19, 22]\n",
    "        , [pd.to_datetime('2020-08-25'), 'Tri-state quarantine requirement is adjusted', 9, 12]\n",
    "        , [pd.to_datetime('2020-08-25'), 'Tri-state quarantine requirement is adjusted', 9, 14]\n",
    "        , [pd.to_datetime('2020-08-25'), 'Tri-state quarantine requirement is adjusted', 9, 20]\n",
    "        , [pd.to_datetime('2020-09-22'), 'Tri-state quarantine requirement is adjusted', 10, 12]\n",
    "        , [pd.to_datetime('2020-09-22'), 'Tri-state quarantine requirement is adjusted', 10, 14]\n",
    "        , [pd.to_datetime('2020-09-22'), 'Tri-state quarantine requirement is adjusted', 10, 20]\n",
    "        , [pd.to_datetime('2020-09-30'), 'Capacity limitations increased for public venues', 16, 16]\n",
    "        , [pd.to_datetime('2020-10-31'), 'Out of state travelers required to quarantine for a minimum of 3 days or until they receive a negative covid test', 11, 12]\n",
    "        , [pd.to_datetime('2020-10-31'), 'Out of state travelers required to quarantine for a minimum of 3 days or until they receive a negative covid test', 11, 14]\n",
    "        , [pd.to_datetime('2020-10-31'), 'Out of state travelers required to quarantine for a minimum of 3 days or until they receive a negative covid test', 11, 20]\n",
    "    ]\n",
    "    , columns = ['Date', 'Event', 'SourceId', 'Airport']\n",
    ")\n",
    "\n",
    "df_timeline.head()"
   ]
  },
  {
   "cell_type": "markdown",
   "metadata": {},
   "source": [
    "# Functions\n",
    "#### I implemented a dynamic method of building plots that would allow each element of the plot to be chosen individually and layered by user preference. <br />\n",
    "#### Additionally each plot can be subset by a range of dates allowing you to zoom into the data where you find interest."
   ]
  },
  {
   "cell_type": "markdown",
   "metadata": {},
   "source": [
    "Plot a horizontal line at the average percent of the given subset"
   ]
  },
  {
   "cell_type": "code",
   "execution_count": 13,
   "metadata": {},
   "outputs": [],
   "source": [
    "def avg_line(df: pd.DataFrame, ax: plt.SubplotTool, props: dict, zorder: int) -> None:\n",
    "    ax.hlines(\n",
    "          xmin = props['xmin']\n",
    "        , xmax = props['date_max'] + 5\n",
    "        , y = props['mean']\n",
    "        , color = color_highlight\n",
    "        , linewidth = 6\n",
    "        , zorder = zorder\n",
    "    )"
   ]
  },
  {
   "cell_type": "markdown",
   "metadata": {},
   "source": [
    "Plot the average percent of the given subset"
   ]
  },
  {
   "cell_type": "code",
   "execution_count": 14,
   "metadata": {},
   "outputs": [],
   "source": [
    "def avg_text(df: pd.DataFrame, ax: plt.SubplotTool, props: dict, zorder: int) -> None:\n",
    "    ax.text(\n",
    "          x = props['xmin']\n",
    "        , y = props['mean']\n",
    "        , s = f'{props[\"mean\"]}%'\n",
    "        , color = color_highlight\n",
    "        , fontsize = 48\n",
    "        , va = 'bottom'\n",
    "        , weight = 'bold'\n",
    "        , zorder = zorder\n",
    "    )"
   ]
  },
  {
   "cell_type": "markdown",
   "metadata": {},
   "source": [
    "IPython widget to allow subsetting the data by a range of dates"
   ]
  },
  {
   "cell_type": "code",
   "execution_count": 15,
   "metadata": {},
   "outputs": [],
   "source": [
    "def date_slider() -> widgets.SelectionRangeSlider:\n",
    "    dates = np.sort(pd.unique(df_traffic['Date']))\n",
    "    return widgets.SelectionRangeSlider(\n",
    "          options = [f' {str(d)[5:10]} ' for d in dates]\n",
    "        , index = (0, dates.size - 1)\n",
    "        , description = \"Dates\"\n",
    "        , layout = {\n",
    "            'width': '1000px'\n",
    "        }\n",
    "    )"
   ]
  },
  {
   "cell_type": "markdown",
   "metadata": {},
   "source": [
    "Plot a series of vertical lines corresponding to the events within the timeline of the given subset"
   ]
  },
  {
   "cell_type": "code",
   "execution_count": 16,
   "metadata": {},
   "outputs": [],
   "source": [
    "def event_lines(df: pd.DataFrame, ax: plt.SubplotTool, props: dict, zorder: int) -> None:\n",
    "    events = df.query(f'AirportKey == {props[\"airport\"]}').merge(df_timeline.query(f'Airport == {props[\"airport\"]}'), how = 'inner', on = 'Date')\n",
    "    for _, row in events.iterrows():\n",
    "        ax.vlines(\n",
    "              x = row['DateOrd']\n",
    "            , ymin = props['ymin']\n",
    "            , ymax = props['ymax']\n",
    "            , color = color_background\n",
    "            , linestyle = ':'\n",
    "            , linewidth = 5\n",
    "            , zorder = zorder\n",
    "        )"
   ]
  },
  {
   "cell_type": "markdown",
   "metadata": {},
   "source": [
    "Plot a series of descriptions of events within the corresponding timeline of the given subset"
   ]
  },
  {
   "cell_type": "code",
   "execution_count": 17,
   "metadata": {},
   "outputs": [],
   "source": [
    "def event_text(df: pd.DataFrame, ax: plt.SubplotTool, props: dict, zorder: int) -> None:\n",
    "    events = df.query(f'AirportKey == {props[\"airport\"]}').merge(df_timeline.query(f'Airport == {props[\"airport\"]}'), how = 'inner', on = 'Date')\n",
    "    for i, row in events.iterrows():\n",
    "        ax.text(\n",
    "              x = row['DateOrd']\n",
    "            , y = (i % 2) * -10\n",
    "            , s = f'[{int(row[\"SourceId\"])}] {wrap_text(row[\"Event\"])}'\n",
    "            , color = color_highlight\n",
    "            , fontsize = 16\n",
    "            , va = 'bottom'\n",
    "            , weight = 'bold'\n",
    "            , wrap = True\n",
    "            , zorder = zorder\n",
    "        )"
   ]
  },
  {
   "cell_type": "markdown",
   "metadata": {},
   "source": [
    "Plot the geo data of the given subset"
   ]
  },
  {
   "cell_type": "code",
   "execution_count": 18,
   "metadata": {},
   "outputs": [],
   "source": [
    "def geo_vis(dates: tuple[str, str]) -> folium.Map:\n",
    "    df = df_traffic.query(f'\"2020-{dates[0]}\" <= Date <= \"2020-{dates[1]}\"')\n",
    "    \n",
    "    map_world = folium.Map(tiles = 'cartodbdark_matter', zoom_start = 5)\n",
    "    map_cluster = MarkerCluster().add_to(map_world)\n",
    "    \n",
    "    for airport, data in df.groupby('AirportName'):\n",
    "        point = data['Centroid'].values[0]\n",
    "        prcnt = round(data['PercentOfBaseline'].mean())\n",
    "        \n",
    "        folium.Marker(\n",
    "              location = [point.y, point.x]\n",
    "            , icon = folium.DivIcon(html = f'''\n",
    "                <div style=\"color: #fff; font-family: sans-serif; font-size: 25px; font-weight: 700\">\n",
    "                    {prcnt}%\n",
    "                </div>'''\n",
    "            )\n",
    "            , tooltip = airport\n",
    "        ).add_to(map_cluster)\n",
    "        \n",
    "        folium.GeoJson(\n",
    "              data = data['Geography'].values[0]\n",
    "            , style_function =  lambda _: {'fillColor': color_geo_highlight}\n",
    "            , tooltip = airport\n",
    "        ).add_to(map_world)\n",
    "\n",
    "    return map_world"
   ]
  },
  {
   "cell_type": "markdown",
   "metadata": {},
   "source": [
    "Plot the polynomial regression of the given subset, allows easy visualization of the overall trend"
   ]
  },
  {
   "cell_type": "code",
   "execution_count": 19,
   "metadata": {},
   "outputs": [],
   "source": [
    "def poly_reg(df: pd.DataFrame, ax: plt.SubplotTool, props: dict, zorder: int) -> None:\n",
    "    poly_x = df.iloc[:, 11:12] # EWW\n",
    "    poly_y = df['PercentOfBaseline']\n",
    "    \n",
    "    poly = PolynomialFeatures(degree = 5)\n",
    "    lin = LinearRegression()\n",
    "    lin.fit(poly.fit_transform(poly_x), poly_y)\n",
    "    \n",
    "    plt.plot(\n",
    "          poly_x\n",
    "        , lin.predict(poly.fit_transform(poly_x))\n",
    "        , color = color_background\n",
    "        , linewidth = 60\n",
    "        , zorder = zorder\n",
    "    )"
   ]
  },
  {
   "cell_type": "markdown",
   "metadata": {},
   "source": [
    "Plot the traffic capacity by date of the given subset"
   ]
  },
  {
   "cell_type": "code",
   "execution_count": 20,
   "metadata": {},
   "outputs": [],
   "source": [
    "def traffic_line(df: pd.DataFrame, ax: plt.SubplotTool, props: dict, zorder: int) -> None:\n",
    "    sns.lineplot(\n",
    "          x = 'DateOrd'\n",
    "        , y = 'PercentOfBaseline'\n",
    "        , data = df\n",
    "        , ax = ax\n",
    "        , color = color_main\n",
    "        , legend = False\n",
    "        , linewidth = 6\n",
    "        , zorder = zorder\n",
    "    )"
   ]
  },
  {
   "cell_type": "markdown",
   "metadata": {},
   "source": [
    "Create a line graph of Baseline Percent by Date of the specified airport for the given subset"
   ]
  },
  {
   "cell_type": "code",
   "execution_count": 21,
   "metadata": {},
   "outputs": [],
   "source": [
    "def graph_percent(airport: int, dates: tuple[str, str], funcs: List[Callable]) -> None:\n",
    "    df = df_traffic.query(f'AirportKey == {airport} & \"2020-{dates[0]}\" <= Date <= \"2020-{dates[1]}\"').sort_values(by = ['Date'])\n",
    "    props = {\n",
    "          'airport': airport\n",
    "        , 'date_min': df['DateOrd'].min()\n",
    "        , 'date_max': df['DateOrd'].max()\n",
    "        , 'mean': round(df['PercentOfBaseline'].mean())\n",
    "        , 'xmin': df['DateOrd'].min() - 20\n",
    "        , 'xmax': df['DateOrd'].max() + 20\n",
    "        , 'ymin': -15\n",
    "        , 'ymax': 110\n",
    "    }\n",
    "    \n",
    "    ax = plt.subplot()\n",
    "    ax.set(\n",
    "          xlim = (props['xmin'], props['xmax'])\n",
    "        , xlabel = \"Dates\"\n",
    "        , ylim = (props['ymin'], props['ymax'])\n",
    "        , ylabel = \"Percent Of Baseline\"\n",
    "    )\n",
    "    ax.xaxis.set_major_formatter(md.DateFormatter('%m-%d'))\n",
    "    ax.xaxis.set_major_locator(MaxNLocator(nbins = df.shape[0] * (15 * (1 / df.shape[0]))))\n",
    "    \n",
    "    for z, func in enumerate(funcs):\n",
    "        func(df, ax, props, z)\n",
    "\n",
    "    plt.title(\n",
    "          df['AirportName'].values[0]\n",
    "        , fontdict = {\n",
    "            'fontsize': 30\n",
    "        }\n",
    "    )\n",
    "    \n",
    "    # ax.set_xticks([dt.datetime.fromordinal(int(t)) for t in ax.get_xticks()])\n",
    "    \n",
    "    plt.show()"
   ]
  },
  {
   "cell_type": "markdown",
   "metadata": {},
   "source": [
    "Wrap text after the specified number of words"
   ]
  },
  {
   "cell_type": "code",
   "execution_count": 22,
   "metadata": {},
   "outputs": [],
   "source": [
    "def wrap_text(s: str, width: int = 3) -> str:\n",
    "    return ''.join([word + (' ' if (i + 1) % width else '\\n') for i, word in enumerate(s.split())])"
   ]
  },
  {
   "cell_type": "markdown",
   "metadata": {},
   "source": [
    "# Geo Visualization\n",
    "#### This gives us a very high level view of the overall traffic capacity for each airport over the timeline of the dataset. <br />\n",
    "#### The date range can be altered for a more specific timeline."
   ]
  },
  {
   "cell_type": "code",
   "execution_count": 23,
   "metadata": {},
   "outputs": [
    {
     "data": {
      "application/vnd.jupyter.widget-view+json": {
       "model_id": "1d872c41c7a247cbab6198732b8fabd4",
       "version_major": 2,
       "version_minor": 0
      },
      "text/plain": [
       "interactive(children=(SelectionRangeSlider(description='Dates', index=(0, 261), layout=Layout(width='1000px'),…"
      ]
     },
     "metadata": {},
     "output_type": "display_data"
    },
    {
     "data": {
      "text/plain": [
       "<function __main__.geo_vis(dates: tuple) -> folium.folium.Map>"
      ]
     },
     "execution_count": 23,
     "metadata": {},
     "output_type": "execute_result"
    }
   ],
   "source": [
    "widgets.interact(geo_vis, dates = date_slider())"
   ]
  },
  {
   "cell_type": "markdown",
   "metadata": {},
   "source": [
    "# Detailed Line Graphs for the Airports of Interest\n",
    "+ I wanted to look at the New York and New Jersey airports because New York had some of the highest numbers for Covid-19 along with some of the strictest guidelines. In addition they entered a Tri-State agreement with New Jersey and Conneticut to restrict out of state travel. While the list of restricted states was updated weekly, for the sake of visual clarity, I limited notations of this to a monthly basis.\n",
    "+ McCarran had both low numbers and seemed to have the most impact from local policy, as these policies closed the Las Vegas strip. I also omitted the U.S. travel restrictions from China and Europe from its graph for visual clarity.\n",
    "+ Kingsford Smith had quite low traffic and a very drastic change in traffic compared to most airports. However, information in general for Australia's Covid policies was difficult to find for 2020 past June and there didn't seem to be any direction from their government or the airport itself that really correlated with the decrease. It's possible this is just an anomoly of the baseline period.\n",
    "+ Santiago International had quite low traffic which likely seems explained by the countries travel restrictions. However, it seems intuitive that developing countries would be disproportionately affected by decreased travel in general."
   ]
  },
  {
   "cell_type": "code",
   "execution_count": 24,
   "metadata": {},
   "outputs": [
    {
     "data": {
      "application/vnd.jupyter.widget-view+json": {
       "model_id": "a398a166895b493cbc402a1070afacc7",
       "version_major": 2,
       "version_minor": 0
      },
      "text/plain": [
       "interactive(children=(SelectionRangeSlider(description='Dates', index=(0, 261), layout=Layout(width='1000px'),…"
      ]
     },
     "metadata": {},
     "output_type": "display_data"
    },
    {
     "data": {
      "application/vnd.jupyter.widget-view+json": {
       "model_id": "4a8c232dd61b43bf96581918f42a4d76",
       "version_major": 2,
       "version_minor": 0
      },
      "text/plain": [
       "interactive(children=(SelectionRangeSlider(description='Dates', index=(0, 261), layout=Layout(width='1000px'),…"
      ]
     },
     "metadata": {},
     "output_type": "display_data"
    },
    {
     "data": {
      "application/vnd.jupyter.widget-view+json": {
       "model_id": "2daa21c598ff42858603d98373d48243",
       "version_major": 2,
       "version_minor": 0
      },
      "text/plain": [
       "interactive(children=(SelectionRangeSlider(description='Dates', index=(0, 261), layout=Layout(width='1000px'),…"
      ]
     },
     "metadata": {},
     "output_type": "display_data"
    },
    {
     "data": {
      "application/vnd.jupyter.widget-view+json": {
       "model_id": "bcb47c90841341c995162ebb0759abd2",
       "version_major": 2,
       "version_minor": 0
      },
      "text/plain": [
       "interactive(children=(SelectionRangeSlider(description='Dates', index=(0, 261), layout=Layout(width='1000px'),…"
      ]
     },
     "metadata": {},
     "output_type": "display_data"
    },
    {
     "data": {
      "application/vnd.jupyter.widget-view+json": {
       "model_id": "fffbab17886b4ef4963f695df9996a01",
       "version_major": 2,
       "version_minor": 0
      },
      "text/plain": [
       "interactive(children=(SelectionRangeSlider(description='Dates', index=(0, 261), layout=Layout(width='1000px'),…"
      ]
     },
     "metadata": {},
     "output_type": "display_data"
    },
    {
     "data": {
      "application/vnd.jupyter.widget-view+json": {
       "model_id": "1a68d77ea9e84967a61f07be0bcf6e02",
       "version_major": 2,
       "version_minor": 0
      },
      "text/plain": [
       "interactive(children=(SelectionRangeSlider(description='Dates', index=(0, 261), layout=Layout(width='1000px'),…"
      ]
     },
     "metadata": {},
     "output_type": "display_data"
    }
   ],
   "source": [
    "for key in [12, 13, 14, 16, 20, 22]:\n",
    "    widgets.interact(\n",
    "          graph_percent\n",
    "        , dates = date_slider()\n",
    "        , airport = widgets.fixed(key)\n",
    "        , funcs = widgets.fixed([poly_reg, event_lines, avg_line, traffic_line, avg_text, event_text])\n",
    "    )"
   ]
  },
  {
   "cell_type": "markdown",
   "metadata": {},
   "source": [
    "# General Line Graphs\n",
    "#### Line graphs for each airport, timeline of events ommitted."
   ]
  },
  {
   "cell_type": "code",
   "execution_count": 25,
   "metadata": {},
   "outputs": [
    {
     "data": {
      "image/png": "[encoded data removed]",
      "text/plain": [
       "<Figure size 2160x1440 with 1 Axes>"
      ]
     },
     "metadata": {},
     "output_type": "display_data"
    },
    {
     "data": {
      "application/vnd.jupyter.widget-view+json": {
       "model_id": "c5d97b548db5406f8bea54a9d6284cfc",
       "version_major": 2,
       "version_minor": 0
      },
      "text/plain": [
       "interactive(children=(SelectionRangeSlider(description='Dates', index=(0, 261), layout=Layout(width='1000px'),…"
      ]
     },
     "metadata": {},
     "output_type": "display_data"
    },
    {
     "data": {
      "application/vnd.jupyter.widget-view+json": {
       "model_id": "d5a762e761b74e00aa2ed400f78a94ed",
       "version_major": 2,
       "version_minor": 0
      },
      "text/plain": [
       "interactive(children=(SelectionRangeSlider(description='Dates', index=(0, 261), layout=Layout(width='1000px'),…"
      ]
     },
     "metadata": {},
     "output_type": "display_data"
    },
    {
     "data": {
      "application/vnd.jupyter.widget-view+json": {
       "model_id": "bfe36886b54b4d42a5e8fca3707b1764",
       "version_major": 2,
       "version_minor": 0
      },
      "text/plain": [
       "interactive(children=(SelectionRangeSlider(description='Dates', index=(0, 261), layout=Layout(width='1000px'),…"
      ]
     },
     "metadata": {},
     "output_type": "display_data"
    },
    {
     "data": {
      "application/vnd.jupyter.widget-view+json": {
       "model_id": "52b07031917c4f1db8fb4178ff7950d5",
       "version_major": 2,
       "version_minor": 0
      },
      "text/plain": [
       "interactive(children=(SelectionRangeSlider(description='Dates', index=(0, 261), layout=Layout(width='1000px'),…"
      ]
     },
     "metadata": {},
     "output_type": "display_data"
    },
    {
     "data": {
      "application/vnd.jupyter.widget-view+json": {
       "model_id": "bf5eba35ad9d4246843d87fec2eb1e03",
       "version_major": 2,
       "version_minor": 0
      },
      "text/plain": [
       "interactive(children=(SelectionRangeSlider(description='Dates', index=(0, 261), layout=Layout(width='1000px'),…"
      ]
     },
     "metadata": {},
     "output_type": "display_data"
    },
    {
     "data": {
      "application/vnd.jupyter.widget-view+json": {
       "model_id": "17dd2ac810ed4d0ba8d7cb7228dff375",
       "version_major": 2,
       "version_minor": 0
      },
      "text/plain": [
       "interactive(children=(SelectionRangeSlider(description='Dates', index=(0, 261), layout=Layout(width='1000px'),…"
      ]
     },
     "metadata": {},
     "output_type": "display_data"
    },
    {
     "data": {
      "application/vnd.jupyter.widget-view+json": {
       "model_id": "410f6b0f1ef74c8b8682f4b3ddd0e2f7",
       "version_major": 2,
       "version_minor": 0
      },
      "text/plain": [
       "interactive(children=(SelectionRangeSlider(description='Dates', index=(0, 261), layout=Layout(width='1000px'),…"
      ]
     },
     "metadata": {},
     "output_type": "display_data"
    },
    {
     "data": {
      "application/vnd.jupyter.widget-view+json": {
       "model_id": "cd86cd98ae25492495cc80e364ec73d0",
       "version_major": 2,
       "version_minor": 0
      },
      "text/plain": [
       "interactive(children=(SelectionRangeSlider(description='Dates', index=(0, 261), layout=Layout(width='1000px'),…"
      ]
     },
     "metadata": {},
     "output_type": "display_data"
    },
    {
     "data": {
      "application/vnd.jupyter.widget-view+json": {
       "model_id": "dc1c2e21ef4c4129b3bf2c179dcc1d9b",
       "version_major": 2,
       "version_minor": 0
      },
      "text/plain": [
       "interactive(children=(SelectionRangeSlider(description='Dates', index=(0, 261), layout=Layout(width='1000px'),…"
      ]
     },
     "metadata": {},
     "output_type": "display_data"
    },
    {
     "data": {
      "application/vnd.jupyter.widget-view+json": {
       "model_id": "72525d7d08004abf9f3760a3735ddfd0",
       "version_major": 2,
       "version_minor": 0
      },
      "text/plain": [
       "interactive(children=(SelectionRangeSlider(description='Dates', index=(0, 261), layout=Layout(width='1000px'),…"
      ]
     },
     "metadata": {},
     "output_type": "display_data"
    },
    {
     "data": {
      "application/vnd.jupyter.widget-view+json": {
       "model_id": "896966dbdde649f8ba8cdefd08b3d293",
       "version_major": 2,
       "version_minor": 0
      },
      "text/plain": [
       "interactive(children=(SelectionRangeSlider(description='Dates', index=(0, 261), layout=Layout(width='1000px'),…"
      ]
     },
     "metadata": {},
     "output_type": "display_data"
    },
    {
     "data": {
      "application/vnd.jupyter.widget-view+json": {
       "model_id": "84efb4eb87684f75b869ef1cf8967cd4",
       "version_major": 2,
       "version_minor": 0
      },
      "text/plain": [
       "interactive(children=(SelectionRangeSlider(description='Dates', index=(0, 261), layout=Layout(width='1000px'),…"
      ]
     },
     "metadata": {},
     "output_type": "display_data"
    },
    {
     "data": {
      "application/vnd.jupyter.widget-view+json": {
       "model_id": "9706ba858f4b47ab8fb5c1ba3615bd94",
       "version_major": 2,
       "version_minor": 0
      },
      "text/plain": [
       "interactive(children=(SelectionRangeSlider(description='Dates', index=(0, 261), layout=Layout(width='1000px'),…"
      ]
     },
     "metadata": {},
     "output_type": "display_data"
    },
    {
     "data": {
      "application/vnd.jupyter.widget-view+json": {
       "model_id": "ac9d4ab0c00f471497c9a1654fbe3928",
       "version_major": 2,
       "version_minor": 0
      },
      "text/plain": [
       "interactive(children=(SelectionRangeSlider(description='Dates', index=(0, 261), layout=Layout(width='1000px'),…"
      ]
     },
     "metadata": {},
     "output_type": "display_data"
    },
    {
     "data": {
      "application/vnd.jupyter.widget-view+json": {
       "model_id": "6b3d7e48f10a406dab0f34fcfc63c8f1",
       "version_major": 2,
       "version_minor": 0
      },
      "text/plain": [
       "interactive(children=(SelectionRangeSlider(description='Dates', index=(0, 261), layout=Layout(width='1000px'),…"
      ]
     },
     "metadata": {},
     "output_type": "display_data"
    },
    {
     "data": {
      "application/vnd.jupyter.widget-view+json": {
       "model_id": "80147abb51064bc6956f09242b82d9fc",
       "version_major": 2,
       "version_minor": 0
      },
      "text/plain": [
       "interactive(children=(SelectionRangeSlider(description='Dates', index=(0, 261), layout=Layout(width='1000px'),…"
      ]
     },
     "metadata": {},
     "output_type": "display_data"
    },
    {
     "data": {
      "application/vnd.jupyter.widget-view+json": {
       "model_id": "d0897ea74fc040febb21b7d351978cad",
       "version_major": 2,
       "version_minor": 0
      },
      "text/plain": [
       "interactive(children=(SelectionRangeSlider(description='Dates', index=(0, 261), layout=Layout(width='1000px'),…"
      ]
     },
     "metadata": {},
     "output_type": "display_data"
    }
   ],
   "source": [
    "for key in range(len(keyed_names)):\n",
    "    widgets.interact(\n",
    "          graph_percent\n",
    "        , dates = date_slider()\n",
    "        , airport = widgets.fixed(key)\n",
    "        , funcs = widgets.fixed([poly_reg, avg_line, traffic_line, avg_text])\n",
    "    )"
   ]
  },
  {
   "cell_type": "markdown",
   "metadata": {},
   "source": [
    "# Sources"
   ]
  },
  {
   "cell_type": "code",
   "execution_count": 26,
   "metadata": {},
   "outputs": [
    {
     "data": {
      "text/markdown": [
       "[0] Chile Ministry of Communications. (n.d.). Plan update \"Step by Step\".<br />&emsp;https://www.gob.cl/coronavirus/pasoapaso/<br /><br />[1] Federal Register. (31 Jan 2020). Suspension of Entry as Immigrants and Nonimmigrants of Persons Who Pose a Risk of Transmitting 2019 Novel Coronavirus and Other Appropriate Measures To Address This Risk.<br />&emsp;https://www.federalregister.gov/documents/2020/02/05/2020-02424/suspension-of-entry-as-immigrants-and-nonimmigrants-of-persons-who-pose-a-risk-of-transmitting-2019<br /><br />[2] Federal Register. (11 Mar 2020). Suspension of Entry as Immigrants and Nonimmigrants of Certain Additional Persons Who Pose a Risk of Transmitting 2019 Novel Coronavirus.<br />&emsp;https://www.federalregister.gov/documents/2020/03/16/2020-05578/suspension-of-entry-as-immigrants-and-nonimmigrants-of-certain-additional-persons-who-pose-a-risk-of<br /><br />[3] Johnson, T. (29 June 2020). Addendum 2 to April 21, 2020 Policy Memorandum.<br />&emsp;https://gaming.nv.gov/modules/showdocument.aspx?documentid=16863<br /><br />[4] New South Wales Government. (10 May 2020). NSW to ease COVID-19 restrictions from Friday 15 May.<br />&emsp;https://www.nsw.gov.au/news/nsw-to-ease-covid-19-restrictions-from-friday-15-may<br /><br />[5] New South Wales Government. (1 June 2020). New COVID-19 restrictions in place across NSW.<br />&emsp;https://www.nsw.gov.au/news/new-covid-19-restrictions-place-across-nsw<br /><br />[6] New South Wales Government Health. (18 Mar 2020). COVID-19 update.<br />&emsp;https://www.health.nsw.gov.au/news/Pages/20200318_01.aspx<br /><br />[7] New York Govenor Press Office. (24 June 2020). Governor Cuomo, Governor Murphy and Governor Lamont Announce Joint Incoming Travel Advisory That All Individuals Traveling from States with Significant Community Spread of COVID-19 Quarantine for 14 Days.<br />&emsp;https://www.governor.ny.gov/news/governor-cuomo-governor-murphy-and-governor-lamont-announce-joint-incoming-travel-advisory-all<br /><br />[8] New York Govenor Press Office. (28 July 2020). Governor Cuomo Announces Individuals Traveling to New York From Three Additional States, Puerto Rico and Washington D.C. Will Be Required to Quarantine for 14 Days.<br />&emsp;https://www.governor.ny.gov/news/governor-cuomo-announces-individuals-traveling-new-york-three-additional-states-puerto-rico-and<br /><br />[9] New York Govenor Press Office. (25 Aug 2020). Governor Cuomo Announces Five States Removed from COVID-19 Travel Advisory Requiring 14-Day Quarantines.<br />&emsp;https://www.governor.ny.gov/news/governor-cuomo-announces-five-states-removed-covid-19-travel-advisory-requiring-14-day<br /><br />[10] New York Govenor Press Office. (22 Sep 2020). Governor Cuomo Announces Five States Added to Travel Advisory and 10 Million COVID-19 Diagnostic Tests Conducted.<br />&emsp;https://www.governor.ny.gov/news/governor-cuomo-announces-five-states-added-travel-advisory-and-10-million-covid-19-diagnostic<br /><br />[11] New York Govenor Press Office. (31 Oct 2020). Governor Cuomo Announces New Guidelines Allowing Out-of-State Travelers to \"Test Out\" of Mandatory 14-Day Quarantine.<br />&emsp;https://www.governor.ny.gov/news/governor-cuomo-announces-new-guidelines-allowing-out-state-travelers-test-out-mandatory-14-day<br /><br />[12] Sisolak, S. (17 Mar 2020). Declaration of Emergency Directive 002.<br />&emsp;https://nvhealthresponse.nv.gov/wp-content/uploads/2020/04/2020-03-18.Declaration-of-Emergency-Directive-002-re-Closing-Casinos.pdf<br /><br />[13] Sisolak, S. (1 Apr 2020). Declaration of Emergency Directive 009 (Revised).<br />&emsp;https://nvhealthresponse.nv.gov/wp-content/uploads/2020/05/Directive-009-Revised.pdf<br /><br />[14] Sisolak, S. (7 May 2020). Declaration of Emergency Directive 018.<br />&emsp;https://gov.nv.gov/News/Emergency_Orders/2020/2020-05-07_-_COVID-19_Declaration_of_Emergency_Directive_018_-_Phase_One_Reopening_(Attachments)/<br /><br />[15] Sisolak, S. (14 Aug 2020). Declaration of Emergency Directive 030.<br />&emsp;https://nvhealthresponse.nv.gov/wp-content/uploads/2020/08/2020-08-14.Declaration-of-Emergency-Directive-030.pdf<br /><br />[16] Sisolak, S. (30 Sep 2020). Declaration of Emergency Directive 033.<br />&emsp;https://gov.nv.gov/News/Emergency_Orders/2020/2020-09-11_-_COVID-19_Declaration_of_Emergency_Directive_032/<br /><br />[17] Statista. (n.d.). Monthly number of passenger visitors at Sydney Airport in Australia from February 2019 to October 2021, by passenger type.<br />&emsp;https://www.statista.com/statistics/1107414/australia-sydney-airport-traffic-by-passenger-type/<br /><br />[18] U.S. Embassy in Chile. (16 Mar 2020). Health Alert - U.S. Embassy Santiago, Chile.<br />&emsp;https://cl.usembassy.gov/health-alert-u-s-embassy-santiago-chile/<br /><br />[19] U.S. Embassy in Chile. (12 Aug 2020). Health Alert - U.S. Embassy Santiago - Covid-19 Update (08/12/2020).<br />&emsp;https://cl.usembassy.gov/health%e2%80%afalert-u-s-embassy-santiago-covid-19-update-08-12-2020/"
      ],
      "text/plain": [
       "<IPython.core.display.Markdown object>"
      ]
     },
     "metadata": {},
     "output_type": "display_data"
    }
   ],
   "source": [
    "display(Markdown('<br /><br />'.join([f'[{row[\"Id\"]}] {row[\"Author\"]}. ({row[\"Date\"]}). {row[\"Title\"]}.<br />&emsp;{row[\"Link\"]}' for _, row in df_sources.iterrows()])))"
   ]
  }
 ],
 "metadata": {
  "interpreter": {
   "hash": "768b3e635b485392eb1fbff52478a9b953a98eefe49d39a411a3c2e8d033e61b"
  },
  "kernelspec": {
   "display_name": "Python 3.6.5 64-bit ('base': conda)",
   "language": "python",
   "name": "python3"
  },
  "language_info": {
   "codemirror_mode": {
    "name": "ipython",
    "version": 3
   },
   "file_extension": ".py",
   "mimetype": "text/x-python",
   "name": "python",
   "nbconvert_exporter": "python",
   "pygments_lexer": "ipython3",
   "version": "3.9.7"
  },
  "orig_nbformat": 4
 },
 "nbformat": 4,
 "nbformat_minor": 2
}
